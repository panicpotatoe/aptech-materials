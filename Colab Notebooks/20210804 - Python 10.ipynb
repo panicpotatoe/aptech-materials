{
 "cells": [
  {
   "cell_type": "markdown",
   "source": [
    "# Serialization with `pickle`"
   ],
   "metadata": {}
  },
  {
   "cell_type": "markdown",
   "source": [
    "## Create a Dictionary named `book`"
   ],
   "metadata": {}
  },
  {
   "cell_type": "code",
   "execution_count": 1,
   "source": [
    "book = {}\n",
    "book['title'] = 'Looking for Alaska'\n",
    "book['author'] = 'John Green'\n",
    "book['cover artist'] = 'Nolan Gadient'\n",
    "book['language'] = 'English'\n",
    "book['genre'] = 'Young adult novel'\n",
    "book['publisher'] = 'Dutton Juvenile'\n",
    "book['publication data'] = 2015\n",
    "book['media type'] = 'Print (hardback & paperback'\n",
    "book['pages'] = 297\n",
    "book['isbn'] = '0-525-47506-0'\n",
    "book['oclc'] = 55633822\n",
    "book['wikipedia link'] = 'https://en.wikipedia.org/wiki/Looking_for_Alaska'\n",
    "book['tags'] = ('novel', 'alaska', 'john green')"
   ],
   "outputs": [],
   "metadata": {}
  },
  {
   "cell_type": "code",
   "execution_count": 3,
   "source": [
    "print(f'{book=}')"
   ],
   "outputs": [
    {
     "output_type": "stream",
     "name": "stdout",
     "text": [
      "book={'title': 'Looking for Alaska', 'author': 'John Green', 'cover artist': 'Nolan Gadient', 'language': 'English', 'genre': 'Young adult novel', 'publisher': 'Dutton Juvenile', 'publication data': 2015, 'media type': 'Print (hardback & paperback', 'pages': 297, 'isbn': '0-525-47506-0', 'oclc': 55633822, 'wikipedia link': 'https://en.wikipedia.org/wiki/Looking_for_Alaska', 'tags': ('novel', 'alaska', 'john green')}\n"
     ]
    }
   ],
   "metadata": {}
  },
  {
   "cell_type": "markdown",
   "source": [
    "## write it to `pickle` file format"
   ],
   "metadata": {}
  },
  {
   "cell_type": "code",
   "execution_count": 4,
   "source": [
    "import pickle\n",
    "with open('my_pickle_file.pickle', 'wb') as file:\n",
    "    pickle.dump(book, file)\n",
    "print('write completed!')\n",
    "\n",
    "\"\"\"\n",
    "f = open('my_pickle_file.pickle', 'wb')\n",
    "f.writelines()\n",
    "f.flush()\n",
    "f.close()\n",
    "\"\"\""
   ],
   "outputs": [
    {
     "output_type": "stream",
     "name": "stdout",
     "text": [
      "write completed!\n"
     ]
    },
    {
     "output_type": "execute_result",
     "data": {
      "text/plain": [
       "\"\\nf = open('my_pickle_file.pickle', 'wb')\\nf.writelines()\\nf.flush()\\nf.close()\\n\""
      ]
     },
     "metadata": {},
     "execution_count": 4
    }
   ],
   "metadata": {}
  },
  {
   "cell_type": "markdown",
   "source": [
    "## read from `pickle` file format"
   ],
   "metadata": {}
  },
  {
   "cell_type": "code",
   "execution_count": 5,
   "source": [
    "import pickle\n",
    "with open('my_pickle_file.pickle', 'rb') as file:\n",
    "    file_loaded = pickle.load(file)\n",
    "print(f'{file_loaded=}')"
   ],
   "outputs": [
    {
     "output_type": "stream",
     "name": "stdout",
     "text": [
      "file_loaded={'title': 'Looking for Alaska', 'author': 'John Green', 'cover artist': 'Nolan Gadient', 'language': 'English', 'genre': 'Young adult novel', 'publisher': 'Dutton Juvenile', 'publication data': 2015, 'media type': 'Print (hardback & paperback', 'pages': 297, 'isbn': '0-525-47506-0', 'oclc': 55633822, 'wikipedia link': 'https://en.wikipedia.org/wiki/Looking_for_Alaska', 'tags': ('novel', 'alaska', 'john green')}\n"
     ]
    }
   ],
   "metadata": {}
  },
  {
   "cell_type": "markdown",
   "source": [
    "The only difference between `dump()` and `dumps()` is that\n",
    "* `dump()` = (returns a string byte) + (creates a file containing the serialization result)\n",
    "* `dumps()` = (returns a string byte)"
   ],
   "metadata": {}
  },
  {
   "cell_type": "code",
   "execution_count": 6,
   "source": [
    "pickle_string = pickle.dumps(book)\n",
    "print(f'{pickle_string=}')"
   ],
   "outputs": [
    {
     "output_type": "stream",
     "name": "stdout",
     "text": [
      "pickle_string=b'\\x80\\x04\\x95\\x80\\x01\\x00\\x00\\x00\\x00\\x00\\x00}\\x94(\\x8c\\x05title\\x94\\x8c\\x12Looking for Alaska\\x94\\x8c\\x06author\\x94\\x8c\\nJohn Green\\x94\\x8c\\x0ccover artist\\x94\\x8c\\rNolan Gadient\\x94\\x8c\\x08language\\x94\\x8c\\x07English\\x94\\x8c\\x05genre\\x94\\x8c\\x11Young adult novel\\x94\\x8c\\tpublisher\\x94\\x8c\\x0fDutton Juvenile\\x94\\x8c\\x10publication data\\x94M\\xdf\\x07\\x8c\\nmedia type\\x94\\x8c\\x1bPrint (hardback & paperback\\x94\\x8c\\x05pages\\x94M)\\x01\\x8c\\x04isbn\\x94\\x8c\\r0-525-47506-0\\x94\\x8c\\x04oclc\\x94J\\x9e\\xe7P\\x03\\x8c\\x0ewikipedia link\\x94\\x8c0https://en.wikipedia.org/wiki/Looking_for_Alaska\\x94\\x8c\\x04tags\\x94\\x8c\\x05novel\\x94\\x8c\\x06alaska\\x94\\x8c\\njohn green\\x94\\x87\\x94u.'\n"
     ]
    }
   ],
   "metadata": {}
  },
  {
   "cell_type": "code",
   "execution_count": 5,
   "source": [
    "print(type(pickle_string))"
   ],
   "outputs": [
    {
     "output_type": "stream",
     "name": "stdout",
     "text": [
      "<class 'bytes'>\n"
     ]
    }
   ],
   "metadata": {}
  },
  {
   "cell_type": "markdown",
   "source": [
    "# Serialization with `json` (optional)\n",
    "\n",
    "note: strings should be written with double quote `\"` instead of single quote `'`"
   ],
   "metadata": {}
  },
  {
   "cell_type": "markdown",
   "source": [
    "## write to file with `json.dumps()`"
   ],
   "metadata": {}
  },
  {
   "cell_type": "code",
   "execution_count": 10,
   "source": [
    "class_info = {\n",
    "    \"student\": {\n",
    "        \"student1\": {\n",
    "            \"id\": 19,\n",
    "            \"name\": \"Nhan Tran\",\n",
    "            \"age\": 18,\n",
    "            \"phone\": \"0937432001\"\n",
    "        },\n",
    "        \"student2\": {\n",
    "            \"id\": 20,\n",
    "            \"name\": \"Nam Nguyen\",\n",
    "            \"age\": 21,\n",
    "            \"email\": \"student2@gmail.com\"\n",
    "        },\n",
    "    },\n",
    "    \"class\": {\n",
    "            \"id\": \"C0809L\",\n",
    "            \"name\": \"Data Science\"\n",
    "        }\n",
    "}\n",
    "\n",
    "print(f'{class_info=}')"
   ],
   "outputs": [
    {
     "output_type": "stream",
     "name": "stdout",
     "text": [
      "class_info={'student': {'student1': {'id': 19, 'name': 'Nhan Tran', 'age': 18, 'phone': '0937432001'}, 'student2': {'id': 20, 'name': 'Nam Nguyen', 'age': 21, 'email': 'student2@gmail.com'}}, 'class': {'id': 'C0809L', 'name': 'Data Science'}}\n"
     ]
    }
   ],
   "metadata": {}
  },
  {
   "cell_type": "markdown",
   "source": [
    "## write file with `json.dumps()`"
   ],
   "metadata": {}
  },
  {
   "cell_type": "code",
   "execution_count": 11,
   "source": [
    "import json\n",
    "\n",
    "# Serializing json \n",
    "json_object = json.dumps(class_info, indent=4)\n",
    "print(f'{json_object=}')\n",
    "print(f'{type(json_object)}')\n",
    "\n",
    "# Writing to my_json_file.json\n",
    "with open('my_json_file (dumps).json', 'w') as outfile:\n",
    "    outfile.write(json_object)"
   ],
   "outputs": [
    {
     "output_type": "stream",
     "name": "stdout",
     "text": [
      "json_object='{\\n    \"student\": {\\n        \"student1\": {\\n            \"id\": 19,\\n            \"name\": \"Nhan Tran\",\\n            \"age\": 18,\\n            \"phone\": \"0937432001\"\\n        },\\n        \"student2\": {\\n            \"id\": 20,\\n            \"name\": \"Nam Nguyen\",\\n            \"age\": 21,\\n            \"email\": \"student2@gmail.com\"\\n        }\\n    },\\n    \"class\": {\\n        \"id\": \"C0809L\",\\n        \"name\": \"Data Science\"\\n    }\\n}'\n",
      "<class 'str'>\n"
     ]
    }
   ],
   "metadata": {}
  },
  {
   "cell_type": "markdown",
   "source": [
    "## write to file with `json.dump()`\n",
    "\n",
    "-> write to file without converting into `json object`"
   ],
   "metadata": {}
  },
  {
   "cell_type": "code",
   "execution_count": 12,
   "source": [
    "with open('my_json_file (dump).json', 'w') as outfile:\n",
    "    json.dump(class_info, outfile)"
   ],
   "outputs": [],
   "metadata": {}
  },
  {
   "cell_type": "markdown",
   "source": [
    "## read to file with `json.load()`"
   ],
   "metadata": {}
  },
  {
   "cell_type": "code",
   "execution_count": 8,
   "source": [
    "with open('my_json_file (dumps).json', 'r') as openfile:\n",
    "    json_object = json.load(openfile)\n",
    "\n",
    "print(json_object)\n",
    "print(type(json_object))"
   ],
   "outputs": [
    {
     "output_type": "stream",
     "name": "stdout",
     "text": [
      "{'student': {'student1': {'id': 19, 'name': 'Nhan Tran', 'age': 18, 'phone': '0937432001'}, 'student2': {'id': 20, 'name': 'Nam Nguyen', 'age': 21, 'phone': '0937432002'}}, 'class': {'id': 'C0809L', 'name': 'Data Science'}}\n",
      "<class 'dict'>\n"
     ]
    }
   ],
   "metadata": {}
  },
  {
   "cell_type": "code",
   "execution_count": 13,
   "source": [
    "with open('my_json_file (dump).json', 'r') as openfile:\n",
    "    json_object = json.load(openfile)\n",
    "    \n",
    "print(json_object)\n",
    "print(type(json_object))"
   ],
   "outputs": [
    {
     "output_type": "stream",
     "name": "stdout",
     "text": [
      "{'student': {'student1': {'id': 19, 'name': 'Nhan Tran', 'age': 18, 'phone': '0937432001'}, 'student2': {'id': 20, 'name': 'Nam Nguyen', 'age': 21, 'email': 'student2@gmail.com'}}, 'class': {'id': 'C0809L', 'name': 'Data Science'}}\n",
      "<class 'dict'>\n"
     ]
    }
   ],
   "metadata": {}
  },
  {
   "cell_type": "markdown",
   "source": [
    "## accessing properties in `json object`"
   ],
   "metadata": {}
  },
  {
   "cell_type": "code",
   "execution_count": 14,
   "source": [
    "print(json_object.get('student').get('student1').get('name'))"
   ],
   "outputs": [
    {
     "output_type": "stream",
     "name": "stdout",
     "text": [
      "Nhan Tran\n"
     ]
    }
   ],
   "metadata": {}
  },
  {
   "cell_type": "code",
   "execution_count": 15,
   "source": [
    "print(json_object.get('class'))"
   ],
   "outputs": [
    {
     "output_type": "stream",
     "name": "stdout",
     "text": [
      "{'id': 'C0809L', 'name': 'Data Science'}\n"
     ]
    }
   ],
   "metadata": {}
  },
  {
   "cell_type": "code",
   "execution_count": 16,
   "source": [
    "print(json_object.get('student'))"
   ],
   "outputs": [
    {
     "output_type": "stream",
     "name": "stdout",
     "text": [
      "{'student1': {'id': 19, 'name': 'Nhan Tran', 'age': 18, 'phone': '0937432001'}, 'student2': {'id': 20, 'name': 'Nam Nguyen', 'age': 21, 'email': 'student2@gmail.com'}}\n"
     ]
    }
   ],
   "metadata": {}
  },
  {
   "cell_type": "code",
   "execution_count": 12,
   "source": [
    "print(json_object.get('student').get('student1').get('name'))"
   ],
   "outputs": [
    {
     "output_type": "stream",
     "name": "stdout",
     "text": [
      "Nhan Tran\n"
     ]
    }
   ],
   "metadata": {}
  },
  {
   "cell_type": "markdown",
   "source": [
    "# Working with `__closures__`"
   ],
   "metadata": {}
  },
  {
   "cell_type": "markdown",
   "source": [
    "## define a nested function, with `nonlocal` keyword"
   ],
   "metadata": {}
  },
  {
   "cell_type": "code",
   "execution_count": 1,
   "source": [
    "def function_outter(input_max): #input_max = 10\n",
    "    number = 0\n",
    "    def function_inner():\n",
    "        nonlocal number\n",
    "        for i in range(input_max + 1): # (0, 1, 2, 3, 4, 5, 6, 7, 8, 9, 10)\n",
    "            number += i\n",
    "        print(f'total = {number}') # 55\n",
    "    # return number\n",
    "    return function_inner"
   ],
   "outputs": [],
   "metadata": {}
  },
  {
   "cell_type": "markdown",
   "source": [
    "## test the function"
   ],
   "metadata": {}
  },
  {
   "cell_type": "code",
   "execution_count": 2,
   "source": [
    "test = function_outter(10)\n",
    "print(type(test))\n",
    "print(test)"
   ],
   "outputs": [
    {
     "output_type": "stream",
     "name": "stdout",
     "text": [
      "<class 'function'>\n",
      "<function function_outter.<locals>.function_inner at 0x7fbed038ab80>\n"
     ]
    }
   ],
   "metadata": {}
  },
  {
   "cell_type": "code",
   "execution_count": 3,
   "source": [
    "print('calling test():')\n",
    "test()"
   ],
   "outputs": [
    {
     "output_type": "stream",
     "name": "stdout",
     "text": [
      "calling test():\n",
      "total = 55\n"
     ]
    }
   ],
   "metadata": {}
  },
  {
   "cell_type": "markdown",
   "source": [
    "## `__closure__` attribute & `cell` object"
   ],
   "metadata": {}
  },
  {
   "cell_type": "code",
   "execution_count": 4,
   "source": [
    "def start(start_at): #start_at = 1\n",
    "    def increment(increment_by): #increment_by = 5\n",
    "        return start_at + increment_by #6\n",
    "    return increment"
   ],
   "outputs": [],
   "metadata": {}
  },
  {
   "cell_type": "code",
   "execution_count": 5,
   "source": [
    "first = start(10)\n",
    "second = start(100)"
   ],
   "outputs": [],
   "metadata": {}
  },
  {
   "cell_type": "code",
   "execution_count": 6,
   "source": [
    "print(type(first))\n",
    "print(first)\n",
    "print(type(second))\n",
    "print(second)"
   ],
   "outputs": [
    {
     "output_type": "stream",
     "name": "stdout",
     "text": [
      "<class 'function'>\n",
      "<function start.<locals>.increment at 0x7fbeb020ac10>\n",
      "<class 'function'>\n",
      "<function start.<locals>.increment at 0x7fbeb020aaf0>\n"
     ]
    }
   ],
   "metadata": {}
  },
  {
   "cell_type": "code",
   "execution_count": 7,
   "source": [
    "# first = start(10)\n",
    "first(5)"
   ],
   "outputs": [
    {
     "output_type": "execute_result",
     "data": {
      "text/plain": [
       "15"
      ]
     },
     "metadata": {},
     "execution_count": 7
    }
   ],
   "metadata": {}
  },
  {
   "cell_type": "code",
   "execution_count": 8,
   "source": [
    "# second = start(100)\n",
    "second(50)"
   ],
   "outputs": [
    {
     "output_type": "execute_result",
     "data": {
      "text/plain": [
       "150"
      ]
     },
     "metadata": {},
     "execution_count": 8
    }
   ],
   "metadata": {}
  },
  {
   "cell_type": "markdown",
   "source": [
    "## exploring its properties"
   ],
   "metadata": {}
  },
  {
   "cell_type": "code",
   "execution_count": 9,
   "source": [
    "# explore using `first`\n",
    "print(f'first.__closure__: {first.__closure__}')\n",
    "print(f'type(first.__closure__): {type(first.__closure__)}')\n",
    "print(f'first.__closure__[0]: {first.__closure__[0]}')\n",
    "print(f'type(first.__closure__[0]): {type(first.__closure__[0])}')\n",
    "print(f'first.__closure__[0].cell_contents: {first.__closure__[0].cell_contents}')\n",
    "print(f'type(first.__closure__[0].cell_contents): {type(first.__closure__[0].cell_contents)}')"
   ],
   "outputs": [
    {
     "output_type": "stream",
     "name": "stdout",
     "text": [
      "first.__closure__: (<cell at 0x7fbe88492bb0: int object at 0x7fbec000ea50>,)\n",
      "type(first.__closure__): <class 'tuple'>\n",
      "first.__closure__[0]: <cell at 0x7fbe88492bb0: int object at 0x7fbec000ea50>\n",
      "type(first.__closure__[0]): <class 'cell'>\n",
      "first.__closure__[0].cell_contents: 10\n",
      "type(first.__closure__[0].cell_contents): <class 'int'>\n"
     ]
    }
   ],
   "metadata": {}
  },
  {
   "cell_type": "markdown",
   "source": [
    "## using with `lambda`"
   ],
   "metadata": {}
  },
  {
   "cell_type": "code",
   "execution_count": 10,
   "source": [
    "def start(start_at): #1\n",
    "    return lambda increment: start_at + increment"
   ],
   "outputs": [],
   "metadata": {}
  },
  {
   "cell_type": "code",
   "execution_count": 11,
   "source": [
    "first = start(5)\n",
    "# second = start(50)"
   ],
   "outputs": [],
   "metadata": {}
  },
  {
   "cell_type": "code",
   "execution_count": 12,
   "source": [
    "print(first)\n",
    "print(type(first))\n",
    "# print(second)"
   ],
   "outputs": [
    {
     "output_type": "stream",
     "name": "stdout",
     "text": [
      "<function start.<locals>.<lambda> at 0x7fbe80be3dc0>\n",
      "<class 'function'>\n"
     ]
    }
   ],
   "metadata": {}
  },
  {
   "cell_type": "code",
   "execution_count": 13,
   "source": [
    "print(first(10))\n",
    "# print(second(100))"
   ],
   "outputs": [
    {
     "output_type": "stream",
     "name": "stdout",
     "text": [
      "15\n"
     ]
    }
   ],
   "metadata": {}
  },
  {
   "cell_type": "code",
   "execution_count": 14,
   "source": [
    "print(start(5)(10))\n",
    "# print(start(50)(100))"
   ],
   "outputs": [
    {
     "output_type": "stream",
     "name": "stdout",
     "text": [
      "15\n"
     ]
    }
   ],
   "metadata": {}
  },
  {
   "cell_type": "code",
   "execution_count": null,
   "source": [],
   "outputs": [],
   "metadata": {}
  }
 ],
 "metadata": {
  "orig_nbformat": 4,
  "language_info": {
   "name": "python",
   "version": "3.9.5",
   "mimetype": "text/x-python",
   "codemirror_mode": {
    "name": "ipython",
    "version": 3
   },
   "pygments_lexer": "ipython3",
   "nbconvert_exporter": "python",
   "file_extension": ".py"
  },
  "kernelspec": {
   "name": "python3",
   "display_name": "Python 3.9.5 64-bit"
  },
  "interpreter": {
   "hash": "aee8b7b246df8f9039afb4144a1f6fd8d2ca17a180786b69acc140d282b71a49"
  }
 },
 "nbformat": 4,
 "nbformat_minor": 2
}